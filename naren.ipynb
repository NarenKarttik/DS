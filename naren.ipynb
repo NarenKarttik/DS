{
 "cells": [
  {
   "cell_type": "markdown",
   "id": "e31df3da-01ec-49c9-9b16-6b21e80d34a3",
   "metadata": {},
   "source": [
    "DATA SCIENCE"
   ]
  },
  {
   "cell_type": "markdown",
   "id": "fcae4bb0-36fd-4f9f-a85f-924977a2a114",
   "metadata": {},
   "source": [
    "INTRODUCTION: study data and gather meaningful insights"
   ]
  },
  {
   "cell_type": "markdown",
   "id": "c1770755-6abc-4ff3-b296-0e582d708eea",
   "metadata": {},
   "source": [
    "Data Science languages:\n",
    "    \n",
    "    Python SQL R Julia Java Scala Javascript C/C++ Swift MATLAB"
   ]
  },
  {
   "cell_type": "markdown",
   "id": "207d2c73-1cc8-4326-9c76-257cae284592",
   "metadata": {},
   "source": [
    "Data Science libraries:\n",
    "    \n",
    "    NumPy Keras Pandas PyTorch SciPy Scikit-Learn TensorFlow Matplotlib Seaborn"
   ]
  },
  {
   "cell_type": "markdown",
   "id": "ff71ec5b-1164-43ed-acdb-e0a29d521d44",
   "metadata": {},
   "source": [
    "|Data Science Tools|\n",
    "|:-----------------:|\n",
    "|RStudio|\n",
    "|--------------------|\n",
    "|Apache Spark|\n",
    "|--------------------|\n",
    "|Tableau|\n"
   ]
  },
  {
   "cell_type": "markdown",
   "id": "17ccd3de-db02-4179-98e8-b249c2003f8c",
   "metadata": {},
   "source": [
    "|Data Science Tools|\n",
    "|:-----------------:|\n",
    "|RStudio|\n",
    "|--------------------|\n",
    "|Apache Spark|\n",
    "|--------------------|\n",
    "|Tableau|\n"
   ]
  },
  {
   "cell_type": "code",
   "execution_count": null,
   "id": "e6dc5b39-c279-4618-987d-462e800f0fea",
   "metadata": {},
   "outputs": [],
   "source": [
    "Arithmetic Expression:\n",
    "    \n",
    "    "
   ]
  }
 ],
 "metadata": {
  "kernelspec": {
   "display_name": "Python",
   "language": "python",
   "name": "conda-env-python-py"
  },
  "language_info": {
   "codemirror_mode": {
    "name": "ipython",
    "version": 3
   },
   "file_extension": ".py",
   "mimetype": "text/x-python",
   "name": "python",
   "nbconvert_exporter": "python",
   "pygments_lexer": "ipython3",
   "version": "3.7.12"
  }
 },
 "nbformat": 4,
 "nbformat_minor": 5
}
